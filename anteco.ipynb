{
 "cells": [
  {
   "cell_type": "code",
   "execution_count": 1,
   "metadata": {},
   "outputs": [
    {
     "name": "stderr",
     "output_type": "stream",
     "text": [
      "java version \"22.0.2\" 2024-07-16\n",
      "Java(TM) SE Runtime Environment (build 22.0.2+9-70)\n",
      "Java HotSpot(TM) 64-Bit Server VM (build 22.0.2+9-70, mixed mode, sharing)\n"
     ]
    }
   ],
   "source": [
    "!java -version"
   ]
  },
  {
   "cell_type": "code",
   "execution_count": 2,
   "metadata": {},
   "outputs": [
    {
     "ename": "NameError",
     "evalue": "name 'os' is not defined",
     "output_type": "error",
     "traceback": [
      "\u001b[1;31m---------------------------------------------------------------------------\u001b[0m",
      "\u001b[1;31mNameError\u001b[0m                                 Traceback (most recent call last)",
      "Cell \u001b[1;32mIn[2], line 2\u001b[0m\n\u001b[0;32m      1\u001b[0m \u001b[38;5;66;03m# Set the JAVA_HOME environment variable to the Java installation directory\u001b[39;00m\n\u001b[1;32m----> 2\u001b[0m \u001b[43mos\u001b[49m\u001b[38;5;241m.\u001b[39menviron[\u001b[38;5;124m\"\u001b[39m\u001b[38;5;124mJAVA_HOME\u001b[39m\u001b[38;5;124m\"\u001b[39m] \u001b[38;5;241m=\u001b[39m \u001b[38;5;124m\"\u001b[39m\u001b[38;5;124m/opt/homebrew/opt/openjdk/libexec/openjdk.jdk\u001b[39m\u001b[38;5;124m\"\u001b[39m\n",
      "\u001b[1;31mNameError\u001b[0m: name 'os' is not defined"
     ]
    }
   ],
   "source": [
    "# Set the JAVA_HOME environment variable to the Java installation directory\n",
    "os.environ[\"JAVA_HOME\"] = \"/opt/homebrew/opt/openjdk/libexec/openjdk.jdk\""
   ]
  },
  {
   "cell_type": "code",
   "execution_count": 3,
   "metadata": {},
   "outputs": [
    {
     "name": "stdout",
     "output_type": "stream",
     "text": [
      "Requirement already satisfied: selenium in c:\\users\\mark\\appdata\\local\\programs\\python\\python312\\lib\\site-packages (4.23.1)\n",
      "Requirement already satisfied: requests in c:\\users\\mark\\appdata\\local\\programs\\python\\python312\\lib\\site-packages (2.32.3)\n",
      "Requirement already satisfied: urllib3<3,>=1.26 in c:\\users\\mark\\appdata\\local\\programs\\python\\python312\\lib\\site-packages (from urllib3[socks]<3,>=1.26->selenium) (2.2.2)\n",
      "Requirement already satisfied: trio~=0.17 in c:\\users\\mark\\appdata\\local\\programs\\python\\python312\\lib\\site-packages (from selenium) (0.26.0)\n",
      "Requirement already satisfied: trio-websocket~=0.9 in c:\\users\\mark\\appdata\\local\\programs\\python\\python312\\lib\\site-packages (from selenium) (0.11.1)\n",
      "Requirement already satisfied: certifi>=2021.10.8 in c:\\users\\mark\\appdata\\local\\programs\\python\\python312\\lib\\site-packages (from selenium) (2024.7.4)\n",
      "Requirement already satisfied: typing_extensions~=4.9 in c:\\users\\mark\\appdata\\local\\programs\\python\\python312\\lib\\site-packages (from selenium) (4.12.2)\n",
      "Requirement already satisfied: websocket-client~=1.8 in c:\\users\\mark\\appdata\\local\\programs\\python\\python312\\lib\\site-packages (from selenium) (1.8.0)\n",
      "Requirement already satisfied: charset-normalizer<4,>=2 in c:\\users\\mark\\appdata\\local\\programs\\python\\python312\\lib\\site-packages (from requests) (3.3.2)\n",
      "Requirement already satisfied: idna<4,>=2.5 in c:\\users\\mark\\appdata\\local\\programs\\python\\python312\\lib\\site-packages (from requests) (3.7)\n",
      "Requirement already satisfied: attrs>=23.2.0 in c:\\users\\mark\\appdata\\local\\programs\\python\\python312\\lib\\site-packages (from trio~=0.17->selenium) (23.2.0)\n",
      "Requirement already satisfied: sortedcontainers in c:\\users\\mark\\appdata\\local\\programs\\python\\python312\\lib\\site-packages (from trio~=0.17->selenium) (2.4.0)\n",
      "Requirement already satisfied: outcome in c:\\users\\mark\\appdata\\local\\programs\\python\\python312\\lib\\site-packages (from trio~=0.17->selenium) (1.3.0.post0)\n",
      "Requirement already satisfied: sniffio>=1.3.0 in c:\\users\\mark\\appdata\\local\\programs\\python\\python312\\lib\\site-packages (from trio~=0.17->selenium) (1.3.1)\n",
      "Requirement already satisfied: cffi>=1.14 in c:\\users\\mark\\appdata\\local\\programs\\python\\python312\\lib\\site-packages (from trio~=0.17->selenium) (1.16.0)\n",
      "Requirement already satisfied: wsproto>=0.14 in c:\\users\\mark\\appdata\\local\\programs\\python\\python312\\lib\\site-packages (from trio-websocket~=0.9->selenium) (1.2.0)\n",
      "Requirement already satisfied: pysocks!=1.5.7,<2.0,>=1.5.6 in c:\\users\\mark\\appdata\\local\\programs\\python\\python312\\lib\\site-packages (from urllib3[socks]<3,>=1.26->selenium) (1.7.1)\n",
      "Requirement already satisfied: pycparser in c:\\users\\mark\\appdata\\local\\programs\\python\\python312\\lib\\site-packages (from cffi>=1.14->trio~=0.17->selenium) (2.22)\n",
      "Requirement already satisfied: h11<1,>=0.9.0 in c:\\users\\mark\\appdata\\local\\programs\\python\\python312\\lib\\site-packages (from wsproto>=0.14->trio-websocket~=0.9->selenium) (0.14.0)\n"
     ]
    }
   ],
   "source": [
    "!pip install -q tabula-py\n",
    "!pip install selenium requests "
   ]
  },
  {
   "cell_type": "code",
   "execution_count": 4,
   "metadata": {},
   "outputs": [
    {
     "name": "stdout",
     "output_type": "stream",
     "text": [
      "Requirement already satisfied: selenium in c:\\users\\mark\\appdata\\local\\programs\\python\\python312\\lib\\site-packages (4.23.1)\n",
      "Requirement already satisfied: requests in c:\\users\\mark\\appdata\\local\\programs\\python\\python312\\lib\\site-packages (2.32.3)\n",
      "Requirement already satisfied: beautifulsoup4 in c:\\users\\mark\\appdata\\local\\programs\\python\\python312\\lib\\site-packages (4.12.3)\n",
      "Requirement already satisfied: urllib3<3,>=1.26 in c:\\users\\mark\\appdata\\local\\programs\\python\\python312\\lib\\site-packages (from urllib3[socks]<3,>=1.26->selenium) (2.2.2)\n",
      "Requirement already satisfied: trio~=0.17 in c:\\users\\mark\\appdata\\local\\programs\\python\\python312\\lib\\site-packages (from selenium) (0.26.0)\n",
      "Requirement already satisfied: trio-websocket~=0.9 in c:\\users\\mark\\appdata\\local\\programs\\python\\python312\\lib\\site-packages (from selenium) (0.11.1)\n",
      "Requirement already satisfied: certifi>=2021.10.8 in c:\\users\\mark\\appdata\\local\\programs\\python\\python312\\lib\\site-packages (from selenium) (2024.7.4)\n",
      "Requirement already satisfied: typing_extensions~=4.9 in c:\\users\\mark\\appdata\\local\\programs\\python\\python312\\lib\\site-packages (from selenium) (4.12.2)\n",
      "Requirement already satisfied: websocket-client~=1.8 in c:\\users\\mark\\appdata\\local\\programs\\python\\python312\\lib\\site-packages (from selenium) (1.8.0)\n",
      "Requirement already satisfied: charset-normalizer<4,>=2 in c:\\users\\mark\\appdata\\local\\programs\\python\\python312\\lib\\site-packages (from requests) (3.3.2)\n",
      "Requirement already satisfied: idna<4,>=2.5 in c:\\users\\mark\\appdata\\local\\programs\\python\\python312\\lib\\site-packages (from requests) (3.7)\n",
      "Requirement already satisfied: soupsieve>1.2 in c:\\users\\mark\\appdata\\local\\programs\\python\\python312\\lib\\site-packages (from beautifulsoup4) (2.5)\n",
      "Requirement already satisfied: attrs>=23.2.0 in c:\\users\\mark\\appdata\\local\\programs\\python\\python312\\lib\\site-packages (from trio~=0.17->selenium) (23.2.0)\n",
      "Requirement already satisfied: sortedcontainers in c:\\users\\mark\\appdata\\local\\programs\\python\\python312\\lib\\site-packages (from trio~=0.17->selenium) (2.4.0)\n",
      "Requirement already satisfied: outcome in c:\\users\\mark\\appdata\\local\\programs\\python\\python312\\lib\\site-packages (from trio~=0.17->selenium) (1.3.0.post0)\n",
      "Requirement already satisfied: sniffio>=1.3.0 in c:\\users\\mark\\appdata\\local\\programs\\python\\python312\\lib\\site-packages (from trio~=0.17->selenium) (1.3.1)\n",
      "Requirement already satisfied: cffi>=1.14 in c:\\users\\mark\\appdata\\local\\programs\\python\\python312\\lib\\site-packages (from trio~=0.17->selenium) (1.16.0)\n",
      "Requirement already satisfied: wsproto>=0.14 in c:\\users\\mark\\appdata\\local\\programs\\python\\python312\\lib\\site-packages (from trio-websocket~=0.9->selenium) (1.2.0)\n",
      "Requirement already satisfied: pysocks!=1.5.7,<2.0,>=1.5.6 in c:\\users\\mark\\appdata\\local\\programs\\python\\python312\\lib\\site-packages (from urllib3[socks]<3,>=1.26->selenium) (1.7.1)\n",
      "Requirement already satisfied: pycparser in c:\\users\\mark\\appdata\\local\\programs\\python\\python312\\lib\\site-packages (from cffi>=1.14->trio~=0.17->selenium) (2.22)\n",
      "Requirement already satisfied: h11<1,>=0.9.0 in c:\\users\\mark\\appdata\\local\\programs\\python\\python312\\lib\\site-packages (from wsproto>=0.14->trio-websocket~=0.9->selenium) (0.14.0)\n",
      "Requirement already satisfied: PyMuPDF in c:\\users\\mark\\appdata\\local\\programs\\python\\python312\\lib\\site-packages (1.24.9)\n",
      "Requirement already satisfied: PyMuPDFb==1.24.9 in c:\\users\\mark\\appdata\\local\\programs\\python\\python312\\lib\\site-packages (from PyMuPDF) (1.24.9)\n"
     ]
    }
   ],
   "source": [
    "!pip install selenium requests beautifulsoup4\n",
    "!pip install PyMuPDF"
   ]
  },
  {
   "cell_type": "code",
   "execution_count": 5,
   "metadata": {},
   "outputs": [],
   "source": [
    "import os\n",
    "import re\n",
    "import tabula\n",
    "import pandas as pd\n",
    "import numpy as np\n",
    "import fitz  # module from PyMuPDF"
   ]
  },
  {
   "cell_type": "code",
   "execution_count": 6,
   "metadata": {},
   "outputs": [],
   "source": [
    "# Set the JAVA_HOME environment variable to the Java installation directory\n",
    "os.environ[\"JAVA_HOME\"] = \"/opt/homebrew/opt/openjdk/libexec/openjdk.jdk\""
   ]
  },
  {
   "cell_type": "code",
   "execution_count": 7,
   "metadata": {},
   "outputs": [],
   "source": [
    "# Set display options to show all rows and columns\n",
    "pd.set_option('display.max_rows', None)\n",
    "pd.set_option('display.max_columns', None)"
   ]
  },
  {
   "cell_type": "code",
   "execution_count": 12,
   "metadata": {},
   "outputs": [
    {
     "name": "stdout",
     "output_type": "stream",
     "text": [
      "Downloaded: BR202407.pdf\n",
      "Downloaded: bdgc-202407.pdf\n",
      "Downloaded: BR202406.pdf\n",
      "Downloaded: bdgc-202406.pdf\n",
      "Downloaded: BR202405.pdf\n",
      "Downloaded: bdgc-202405.pdf\n",
      "Downloaded: BR202404.pdf\n",
      "Downloaded: bdgc-202404.pdf\n",
      "Downloaded: BR202403.pdf\n",
      "Downloaded: bdgc-202403.pdf\n",
      "Downloaded: BR202402.pdf\n",
      "Downloaded: bdgc-202402.pdf\n",
      "Downloaded: BR202401.pdf\n",
      "Downloaded: bdgc-202401.pdf\n",
      "Downloaded: BR202312.pdf\n",
      "Downloaded: bdgc-202312.pdf\n",
      "Downloaded: BR202311.pdf\n",
      "Downloaded: bdgc-202311.pdf\n",
      "Downloaded: BR202310.pdf\n",
      "Downloaded: bdgc-202310.pdf\n",
      "Downloaded: BR202309.pdf\n",
      "Downloaded: bdgc-202309.pdf\n",
      "Downloaded: BR202308.pdf\n",
      "Downloaded: bdgc-202308.pdf\n",
      "Downloaded: BR202307.pdf\n",
      "Downloaded: bdgc-202307.pdf\n",
      "Downloaded: BR202306.pdf\n",
      "Downloaded: bdgc-202306.pdf\n",
      "Downloaded: BR202305.pdf\n",
      "Downloaded: bdgc-202305.pdf\n",
      "Downloaded: BR202304.pdf\n",
      "Downloaded: bdgc-202304.pdf\n",
      "Downloaded: BR202303.pdf\n",
      "Downloaded: bdgc-202303.pdf\n",
      "Downloaded: BR202302.pdf\n",
      "Downloaded: bdgc-202302.pdf\n",
      "Downloaded: BR202301.pdf\n",
      "Downloaded: bdgc-202301.pdf\n"
     ]
    }
   ],
   "source": [
    "import requests\n",
    "from selenium import webdriver\n",
    "from selenium.webdriver.common.by import By\n",
    "from selenium.webdriver.support.ui import WebDriverWait\n",
    "from selenium.webdriver.support import expected_conditions as EC\n",
    "import os\n",
    "\n",
    "DOWNLOAD_DIR = './pdf_downloads'\n",
    "BASE_URL = 'https://anteco.com.ph/index.php/disclosures'\n",
    "\n",
    "# Setup Chrome WebDriver\n",
    "options = webdriver.ChromeOptions()\n",
    "options.add_argument('--headless')  # Run headless Chrome (no GUI)\n",
    "options.add_argument('--no-sandbox')\n",
    "options.add_argument('--disable-dev-shm-usage')\n",
    "options.add_argument('--disable-gpu')\n",
    "options.add_argument('--window-size=1920x1080')\n",
    "\n",
    "driver = webdriver.Chrome(options=options)\n",
    "\n",
    "try:\n",
    "    driver.get(BASE_URL)\n",
    "\n",
    "    # Wait for the page to fully load\n",
    "    WebDriverWait(driver, 10).until(\n",
    "        EC.presence_of_element_located((By.TAG_NAME, 'a'))\n",
    "    )\n",
    "\n",
    "    # Extract all links to PDF files\n",
    "    pdf_links = driver.find_elements(By.XPATH, \"//a[contains(@href, '.pdf')]\")\n",
    "    \n",
    "    # Prepare the download directory\n",
    "    os.makedirs(DOWNLOAD_DIR, exist_ok=True)\n",
    "\n",
    "    headers = {\n",
    "        'User-Agent': 'Mozilla/5.0 (Windows NT 10.0; Win64; x64) AppleWebKit/537.36 (KHTML, like Gecko) Chrome/91.0.4472.124 Safari/537.36',\n",
    "        'Accept': 'application/pdf'\n",
    "    }\n",
    "\n",
    "    for link in pdf_links:\n",
    "        try:\n",
    "            href = link.get_attribute('href')\n",
    "            pdf_name = href.split('/')[-1]\n",
    "            full_url = href\n",
    "\n",
    "            # Download the PDF\n",
    "            response = requests.get(full_url, headers=headers)\n",
    "            if response.status_code == 200:\n",
    "                pdf_path = os.path.join(DOWNLOAD_DIR, pdf_name)\n",
    "                with open(pdf_path, 'wb') as file:\n",
    "                    file.write(response.content)\n",
    "                print(f'Downloaded: {pdf_name}')\n",
    "            else:\n",
    "                print(f'Failed to download {pdf_name}, status code: {response.status_code}')\n",
    "        \n",
    "        except Exception as e:\n",
    "            print(f'Error processing link: {e}')\n",
    "\n",
    "finally:\n",
    "    driver.quit()\n"
   ]
  },
  {
   "cell_type": "code",
   "execution_count": 15,
   "metadata": {},
   "outputs": [
    {
     "ename": "FileNotFoundError",
     "evalue": "[WinError 3] The system cannot find the path specified: 'path/to/your/download_dir'",
     "output_type": "error",
     "traceback": [
      "\u001b[1;31m---------------------------------------------------------------------------\u001b[0m",
      "\u001b[1;31mFileNotFoundError\u001b[0m                         Traceback (most recent call last)",
      "Cell \u001b[1;32mIn[15], line 7\u001b[0m\n\u001b[0;32m      4\u001b[0m dataframes \u001b[38;5;241m=\u001b[39m {}\n\u001b[0;32m      6\u001b[0m \u001b[38;5;66;03m# List all PDF files in the download directory\u001b[39;00m\n\u001b[1;32m----> 7\u001b[0m pdf_files \u001b[38;5;241m=\u001b[39m [f \u001b[38;5;28;01mfor\u001b[39;00m f \u001b[38;5;129;01min\u001b[39;00m \u001b[43mos\u001b[49m\u001b[38;5;241;43m.\u001b[39;49m\u001b[43mlistdir\u001b[49m\u001b[43m(\u001b[49m\u001b[43mDOWNLOAD_DIR\u001b[49m\u001b[43m)\u001b[49m \u001b[38;5;28;01mif\u001b[39;00m f\u001b[38;5;241m.\u001b[39mendswith(\u001b[38;5;124m'\u001b[39m\u001b[38;5;124m.pdf\u001b[39m\u001b[38;5;124m'\u001b[39m)]\n\u001b[0;32m      9\u001b[0m \u001b[38;5;28;01mfor\u001b[39;00m pdf_file \u001b[38;5;129;01min\u001b[39;00m pdf_files:\n\u001b[0;32m     10\u001b[0m     date_part \u001b[38;5;241m=\u001b[39m pdf_file\u001b[38;5;241m.\u001b[39msplit(\u001b[38;5;124m'\u001b[39m\u001b[38;5;124m_\u001b[39m\u001b[38;5;124m'\u001b[39m)[\u001b[38;5;241m-\u001b[39m\u001b[38;5;241m1\u001b[39m]\u001b[38;5;241m.\u001b[39mreplace(\u001b[38;5;124m'\u001b[39m\u001b[38;5;124m.pdf\u001b[39m\u001b[38;5;124m'\u001b[39m, \u001b[38;5;124m'\u001b[39m\u001b[38;5;124m'\u001b[39m)\n",
      "\u001b[1;31mFileNotFoundError\u001b[0m: [WinError 3] The system cannot find the path specified: 'path/to/your/download_dir'"
     ]
    }
   ],
   "source": [
    "# Process the downloaded PDFs into DataFrames\n",
    "import tabula\n",
    "\n",
    "dataframes = {}\n",
    "\n",
    "# List all PDF files in the download directory\n",
    "pdf_files = [f for f in os.listdir(DOWNLOAD_DIR) if f.endswith('.pdf')]\n",
    "\n",
    "for pdf_file in pdf_files:\n",
    "    date_part = pdf_file.split('_')[-1].replace('.pdf', '')\n",
    "    pdf_path = os.path.join(DOWNLOAD_DIR, pdf_file)\n",
    "\n",
    "    try:\n",
    "        # Read the PDF file into a DataFrame\n",
    "        dfs = tabula.read_pdf(pdf_path, stream=True, pages='all')  # Adjust pages parameter as needed\n",
    "        if dfs:  # Check if any DataFrames were returned\n",
    "            df = dfs[0]\n",
    "            dataframes[f\"df_{date_part}\"] = df\n",
    "            print(f'Loaded DataFrame for: {pdf_file}')\n",
    "        else:\n",
    "            print(f'No data found in {pdf_file}')\n",
    "    except Exception as e:\n",
    "        print(f'Error reading {pdf_file}: {e}')\n",
    "\n",
    "# Now you can use the `dataframes` dictionary to ac"
   ]
  },
  {
   "cell_type": "code",
   "execution_count": null,
   "metadata": {},
   "outputs": [],
   "source": []
  }
 ],
 "metadata": {
  "kernelspec": {
   "display_name": "Python 3",
   "language": "python",
   "name": "python3"
  },
  "language_info": {
   "codemirror_mode": {
    "name": "ipython",
    "version": 3
   },
   "file_extension": ".py",
   "mimetype": "text/x-python",
   "name": "python",
   "nbconvert_exporter": "python",
   "pygments_lexer": "ipython3",
   "version": "3.12.4"
  }
 },
 "nbformat": 4,
 "nbformat_minor": 2
}
